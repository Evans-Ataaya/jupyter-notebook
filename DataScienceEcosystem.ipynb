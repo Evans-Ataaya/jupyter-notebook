{
 "cells": [
  {
   "cell_type": "markdown",
   "id": "2fb821ba-926d-4bed-b0b7-365fc1dfb375",
   "metadata": {},
   "source": [
    "**Question 1: Create a Jupyter Notebook.**\n",
    "Create a new jupyter notebook called **DataScienceEcosystem.ipynb.**"
   ]
  },
  {
   "cell_type": "markdown",
   "id": "67ceefdb-7e48-4285-a0cd-bfbcd3c18038",
   "metadata": {},
   "source": [
    "**Question 2: Create markdown cell with title of the notebook.** with title **Data Science Tools and Ecosystem.** Using H1 style heading"
   ]
  },
  {
   "cell_type": "markdown",
   "id": "37944bb7-6f06-4c18-a77c-76cfc57b36d2",
   "metadata": {},
   "source": [
    "# Data Science Tools and Ecosystem"
   ]
  },
  {
   "cell_type": "markdown",
   "id": "0eebfede-95a4-4c12-bcf9-d8441d97f82f",
   "metadata": {},
   "source": [
    "**Question 3: Create a markdown cell for an introduction.**"
   ]
  },
  {
   "cell_type": "markdown",
   "id": "28d961b9-6558-4186-b636-66cd5669d112",
   "metadata": {},
   "source": [
    "## Introduction\n",
    "In this notebook, Data Science Tools and Ecosystem are summarized."
   ]
  },
  {
   "cell_type": "markdown",
   "id": "1764b24a-05a9-441b-89ed-260fb3bf1aeb",
   "metadata": {},
   "source": [
    "**Question 10: Insert a markdown cell to list Objectives.** "
   ]
  },
  {
   "cell_type": "markdown",
   "id": "eb7b7faf-7252-41fc-9c5f-7c3a2774da31",
   "metadata": {},
   "source": [
    "**Objectives:.**\n",
    "This notebook provides a practical overview of key data science concepts and tools, including:\n",
    "- Listing popular languages for Data Science, such as Python, R, and SQL.\n",
    "- Identifying commonly used libraries in Data Science, which includes, pandas, scikit-learn, and TensorFlow.\n",
    "- Introducing popular open-source tools for development environments like Jupyter Notebooks and Rstudio.\n",
    "- Demonstrating basic Python operations for arithmetic and type conversion.\n",
    "- Providing an introduction to markdown for documentation."
   ]
  },
  {
   "cell_type": "markdown",
   "id": "dc96c204-a53e-4262-9890-5f6adf89777b",
   "metadata": {},
   "source": [
    "**Question 4: Create a markdown cell to list data science languages.**"
   ]
  },
  {
   "cell_type": "markdown",
   "id": "39ed2d91-c2f7-48ee-9592-1558df5b5e02",
   "metadata": {},
   "source": [
    "Some of the popular languages that Data Scientists use are:\n",
    "1. Python\n",
    "2. R\n",
    "3. SQL (Structured Query Language)\n",
    "4. Julia\n",
    "5. Scala\n",
    "6. SAS"
   ]
  },
  {
   "cell_type": "markdown",
   "id": "57de2a7b-71e7-4a4b-9b64-60272516a2f5",
   "metadata": {},
   "source": [
    "**Question 5: Create a markdown cell to list data science libraries.**"
   ]
  },
  {
   "cell_type": "markdown",
   "id": "499dd99d-7fe8-4f3a-86d2-faea45a7f4cc",
   "metadata": {},
   "source": [
    "Some of the commonly used libraries used by Data Scientist include:\n",
    "1. Pandas\n",
    "2. Numpy\n",
    "3. Scikit-learn\n",
    "4. caret\n",
    "5. TensorFlow\n",
    "6. PyTorch\n",
    "7. Matplotlib\n",
    "8. seaborn"
   ]
  },
  {
   "cell_type": "markdown",
   "id": "f84080f4-3e86-48df-bf14-dc252c6f1be7",
   "metadata": {},
   "source": [
    "**Question 6: Create a markdown cell with a table of Data Science tools.**"
   ]
  },
  {
   "cell_type": "markdown",
   "id": "c02bf2a6-4f08-456d-8042-cf7ac57e4a7e",
   "metadata": {},
   "source": [
    "Data Science Tools\n",
    "|------------------|\n",
    "Jupyter Notebooks\n",
    "|                 |\n",
    "RStudio\n",
    "|                 |\n",
    "Apache Zeppelin\n",
    "|                 |"
   ]
  },
  {
   "cell_type": "markdown",
   "id": "ea22f723-1b64-40cc-b502-b4342fe0d492",
   "metadata": {},
   "source": [
    "**Question 7: Create a markdown cell introducing arithmetic expressions examples.**\n",
    "      Add a line in this cell with H3 style heading with text:"
   ]
  },
  {
   "cell_type": "markdown",
   "id": "f26138e5-d4ea-4764-9d56-b4b64efc3525",
   "metadata": {},
   "source": [
    "### Below are a few examples of evaluating arithmetic expressions in Python."
   ]
  },
  {
   "cell_type": "markdown",
   "id": "9506d52d-5835-4744-b39c-160f8fb4b287",
   "metadata": {},
   "source": [
    "**Question 8: Create a code cell to multiple and add numbers.**. In this cell, evaluate the expression (3*4)+5"
   ]
  },
  {
   "cell_type": "code",
   "execution_count": 2,
   "id": "2c1402eb-c353-4403-9226-e6a8becf5a55",
   "metadata": {},
   "outputs": [
    {
     "name": "stdout",
     "output_type": "stream",
     "text": [
      "17\n"
     ]
    }
   ],
   "source": [
    "# This is a simple arithmetic expression to multiply then add integers\n",
    "result = (3 * 4) + 5\n",
    "print(result)"
   ]
  },
  {
   "cell_type": "markdown",
   "id": "2a4c43ed-e1ba-47d7-ba79-1ee3570f3855",
   "metadata": {},
   "source": [
    "**Question 9: Create a code cell to convert minutes to hours.**  In this code write an expression that converts 200 minutes into hours."
   ]
  },
  {
   "cell_type": "code",
   "execution_count": 3,
   "id": "e1a8fbca-112f-41fe-9f19-f23c3990b1a7",
   "metadata": {},
   "outputs": [
    {
     "name": "stdout",
     "output_type": "stream",
     "text": [
      "3.3333333333333335\n"
     ]
    }
   ],
   "source": [
    "# Convert 200 minutes to hours by dividing minutes by 60 (200 / 60)\n",
    "minutes = 200\n",
    "hours = minutes / 60\n",
    "\n",
    "print(hours)"
   ]
  },
  {
   "cell_type": "markdown",
   "id": "ed33236f-38a9-4732-a318-9c85336be0d0",
   "metadata": {},
   "source": [
    "**Question 11: Create a markdown cell to indicate the Author's Name.**"
   ]
  },
  {
   "cell_type": "markdown",
   "id": "6c3fafe7-2d67-47b9-8c4c-2da642f655aa",
   "metadata": {},
   "source": [
    "## Author\n",
    "Evans Ataaya"
   ]
  },
  {
   "cell_type": "code",
   "execution_count": null,
   "id": "4f084039-c2db-4554-a17a-b9fb422e3a4c",
   "metadata": {},
   "outputs": [],
   "source": []
  }
 ],
 "metadata": {
  "kernelspec": {
   "display_name": "Python 3 (ipykernel)",
   "language": "python",
   "name": "python3"
  },
  "language_info": {
   "codemirror_mode": {
    "name": "ipython",
    "version": 3
   },
   "file_extension": ".py",
   "mimetype": "text/x-python",
   "name": "python",
   "nbconvert_exporter": "python",
   "pygments_lexer": "ipython3",
   "version": "3.12.3"
  }
 },
 "nbformat": 4,
 "nbformat_minor": 5
}
